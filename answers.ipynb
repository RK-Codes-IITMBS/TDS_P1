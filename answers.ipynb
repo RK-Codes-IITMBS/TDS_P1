{
 "cells": [
  {
   "cell_type": "code",
   "execution_count": 6,
   "metadata": {},
   "outputs": [
    {
     "name": "stdout",
     "output_type": "stream",
     "text": [
      "The most popular programming language is: Python\n"
     ]
    }
   ],
   "source": [
    "import pandas as pd\n",
    "\n",
    "# Load the repositories.csv file\n",
    "repos = pd.read_csv('repositories.csv')\n",
    "\n",
    "# Drop rows where the language is missing (NaN)\n",
    "repos = repos.dropna(subset=['language'])\n",
    "\n",
    "# Count the occurrences of each language\n",
    "language_counts = repos['language'].value_counts()\n",
    "\n",
    "# Get the most popular language (the one with the highest count)\n",
    "most_popular_language = language_counts.idxmax()\n",
    "\n",
    "# Output the result\n",
    "print(f\"The most popular programming language is: {most_popular_language}\")\n"
   ]
  },
  {
   "cell_type": "code",
   "execution_count": 8,
   "metadata": {},
   "outputs": [
    {
     "data": {
      "text/plain": [
       "language\n",
       "Python        3298\n",
       "JavaScript    2592\n",
       "C++           1252\n",
       "Java           953\n",
       "HTML           729\n",
       "Name: count, dtype: int64"
      ]
     },
     "execution_count": 8,
     "metadata": {},
     "output_type": "execute_result"
    }
   ],
   "source": [
    "repos['language'].value_counts().head(5)\n"
   ]
  },
  {
   "cell_type": "code",
   "execution_count": null,
   "metadata": {},
   "outputs": [],
   "source": []
  }
 ],
 "metadata": {
  "kernelspec": {
   "display_name": "Python 3 (ipykernel)",
   "language": "python",
   "name": "python3"
  },
  "language_info": {
   "codemirror_mode": {
    "name": "ipython",
    "version": 3
   },
   "file_extension": ".py",
   "mimetype": "text/x-python",
   "name": "python",
   "nbconvert_exporter": "python",
   "pygments_lexer": "ipython3",
   "version": "3.12.3"
  }
 },
 "nbformat": 4,
 "nbformat_minor": 2
}
